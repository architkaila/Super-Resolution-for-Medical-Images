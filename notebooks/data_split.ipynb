{
 "cells": [
  {
   "cell_type": "code",
   "execution_count": null,
   "id": "7ea2d00a-30fd-422f-a368-97c83219636f",
   "metadata": {},
   "outputs": [],
   "source": [
    "import random\n",
    "import os\n",
    "import glob\n",
    "import pickle"
   ]
  },
  {
   "cell_type": "code",
   "execution_count": null,
   "id": "713d1651-f843-46e7-9c92-cf42a36e9a50",
   "metadata": {},
   "outputs": [],
   "source": [
    "## Get list of all images in full dataset\n",
    "all_images_list = glob.glob(f\"../data/*/*/*.png\", recursive=False)\n",
    "\n",
    "## Shuffle the data\n",
    "random.shuffle(all_images_list)"
   ]
  },
  {
   "cell_type": "code",
   "execution_count": null,
   "id": "df58a425-5de7-4c62-812a-731ae1db1e31",
   "metadata": {},
   "outputs": [],
   "source": [
    "## Split the data into train and test\n",
    "train_images = all_images_list[:90000]\n",
    "test_images = all_images_list[90000:]"
   ]
  },
  {
   "cell_type": "code",
   "execution_count": null,
   "id": "17944807-7ddf-4053-9018-99911575b6e0",
   "metadata": {},
   "outputs": [],
   "source": [
    "## Save the train and test split\n",
    "with open(\"../data/train_images.pkl\", \"wb\") as fp:\n",
    "    pickle.dump(train_images, fp)\n",
    "with open(\"../data/val_images.pkl\", \"wb\") as fp:\n",
    "    pickle.dump(test_images, fp)"
   ]
  },
  {
   "cell_type": "code",
   "execution_count": null,
   "id": "7d24843b-e71f-4995-ab90-c4770b93b035",
   "metadata": {
    "scrolled": true,
    "tags": []
   },
   "outputs": [],
   "source": [
    "all_images_list"
   ]
  },
  {
   "cell_type": "code",
   "execution_count": null,
   "id": "c20d20b4-a592-4a08-ac33-52c734c49f15",
   "metadata": {},
   "outputs": [],
   "source": []
  }
 ],
 "metadata": {
  "kernelspec": {
   "display_name": "aipi_ind_project",
   "language": "python",
   "name": "aipi_ind_project"
  },
  "language_info": {
   "codemirror_mode": {
    "name": "ipython",
    "version": 3
   },
   "file_extension": ".py",
   "mimetype": "text/x-python",
   "name": "python",
   "nbconvert_exporter": "python",
   "pygments_lexer": "ipython3",
   "version": "3.8.8"
  }
 },
 "nbformat": 4,
 "nbformat_minor": 5
}
