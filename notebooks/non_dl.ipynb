{
 "cells": [
  {
   "cell_type": "code",
   "execution_count": 12,
   "id": "8d6b61b1-9f58-45aa-858c-4daaf34ad772",
   "metadata": {},
   "outputs": [],
   "source": [
    "import torch\n",
    "import torchvision\n",
    "import torchvision.transforms as transforms\n",
    "from PIL import Image\n",
    "from torchvision.transforms.functional import to_tensor\n",
    "import pickle\n",
    "from tqdm import tqdm\n",
    "import sys\n",
    "import math\n",
    "\n",
    "## Add the scripts folder to the path\n",
    "sys.path.insert(0, '../scripts/')\n",
    "from model_metrics import ssim"
   ]
  },
  {
   "cell_type": "code",
   "execution_count": 13,
   "id": "c6149dac",
   "metadata": {},
   "outputs": [],
   "source": [
    "with open('../data/val_images.pkl', 'rb') as f:\n",
    "    val_data_list = pickle.load(f)"
   ]
  },
  {
   "cell_type": "code",
   "execution_count": 14,
   "id": "ec707d24-d896-4874-bb6f-b12122b173c9",
   "metadata": {},
   "outputs": [],
   "source": [
    "def naive_super_resolution(image_path, lr_scale=256, hr_scale=1024):\n",
    "    \"\"\"\n",
    "    Naive super resolution using bicubic interpolation.\n",
    "\n",
    "    Args:\n",
    "        image_path (str): Path to the image to be super resolved.\n",
    "        scale_factor (int): Scale factor to be used for super resolution.\n",
    "    \n",
    "    Returns:\n",
    "        Image: Super resolved image.\n",
    "    \"\"\"\n",
    "\n",
    "    # Load an image\n",
    "    hr_image = Image.open(image_path).convert('RGB')\n",
    "\n",
    "    ## Create the LR image transformer by downsampling the HR image and applying bicubic interpolation\n",
    "    lr_scale = transforms.Resize((lr_scale,lr_scale), interpolation=Image.BICUBIC)\n",
    "\n",
    "    ## Create the restored HR image tranformer (simple classical method) by upsampling the LR image and applying bicubic interpolation\n",
    "    hr_scale = transforms.Resize((hr_scale,hr_scale), interpolation=Image.BICUBIC)\n",
    "\n",
    "    ## Create the LR Image from the original HR Image using the LR Image transformer\n",
    "    lr_image = lr_scale(hr_image)\n",
    "\n",
    "    ## Create the restored HR Image from the LR Image using the classical method of restored HR Image transforms\n",
    "    hr_restore_img = hr_scale(lr_image)\n",
    "\n",
    "    return to_tensor(lr_image), to_tensor(hr_restore_img), to_tensor(hr_image)"
   ]
  },
  {
   "cell_type": "code",
   "execution_count": null,
   "id": "02f4bbd3",
   "metadata": {},
   "outputs": [],
   "source": [
    "batch_size = 1\n",
    "\n",
    "results = {\n",
    "                \"mse\": 0,\n",
    "                \"ssims\": 0,\n",
    "                \"psnr\": 0,\n",
    "                \"ssim\": 0,\n",
    "                \"batch_sizes\": 0,\n",
    "            }\n",
    "val_bar = tqdm(val_data_list, total=len(val_data_list))\n",
    "for image_path in val_bar:\n",
    "    ## Increment the number of images\n",
    "    results[\"batch_sizes\"] += batch_size\n",
    "\n",
    "    ## Get the LR, restored HR and HR images using the naive super resolution method\n",
    "    lr_img, hr_restore, hr_img = naive_super_resolution(image_path, lr_scale=256, hr_scale=1024)\n",
    "\n",
    "    ## Calculate the MSE for current image\n",
    "    batch_mse = ((hr_restore - hr_img) ** 2).data.mean()\n",
    "\n",
    "    ## Store the MSE for current image\n",
    "    results[\"mse\"] += batch_mse * batch_size\n",
    "    \n",
    "    ## Calculate the SSIM for current image\n",
    "    batch_ssim = ssim(hr_restore.unsqueeze(0), hr_img).item()\n",
    "\n",
    "    ## Store the SSIM for current image\n",
    "    results[\"ssims\"] += batch_ssim * batch_size\n",
    "\n",
    "    ## Calculate the PSNR for current image\n",
    "    results[\"psnr\"] = 10 * math.log10((hr_img.max() ** 2)/ (results[\"mse\"] / results[\"batch_sizes\"]))\n",
    "    \n",
    "    ## Calculate the SSIM for all processed images\n",
    "    results[\"ssim\"] = (results[\"ssims\"] / results[\"batch_sizes\"])\n",
    "\n",
    "    ## Update the progress bar\n",
    "    val_bar.set_description(desc=\"PSNR: %.4f dB SSIM: %.4f\"% (results[\"psnr\"], results[\"ssim\"]))"
   ]
  }
 ],
 "metadata": {
  "kernelspec": {
   "display_name": "aipi540_individual",
   "language": "python",
   "name": "aipi540_individual"
  },
  "language_info": {
   "codemirror_mode": {
    "name": "ipython",
    "version": 3
   },
   "file_extension": ".py",
   "mimetype": "text/x-python",
   "name": "python",
   "nbconvert_exporter": "python",
   "pygments_lexer": "ipython3",
   "version": "3.9.16"
  }
 },
 "nbformat": 4,
 "nbformat_minor": 5
}
