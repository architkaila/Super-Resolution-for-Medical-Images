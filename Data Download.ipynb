{
 "cells": [
  {
   "cell_type": "markdown",
   "id": "9c725235-3c9a-42b9-a419-e91816893933",
   "metadata": {},
   "source": [
    "### Library Imports"
   ]
  },
  {
   "cell_type": "markdown",
   "id": "55ac8e60-9b07-4ef6-9153-71ac90579290",
   "metadata": {},
   "source": [
    "### Sample form main datset"
   ]
  },
  {
   "cell_type": "code",
   "execution_count": 10,
   "id": "4137b634-22d9-40d6-a177-09a274edbca0",
   "metadata": {},
   "outputs": [],
   "source": [
    "# Download the data\n",
    "if not os.path.exists('./data_sample'):\n",
    "    os.mkdir('./data_sample')\n",
    "if not os.path.exists('data_sample/siim_small'):\n",
    "    url = 'https://s3.amazonaws.com/fast-ai-imagelocal/siim_small.tgz'\n",
    "    urllib.request.urlretrieve(url,filename='data_sample/siim_small.tgz')\n",
    "    file = tarfile.open('data_sample/siim_small.tgz')\n",
    "    file.extractall('data_sample')\n",
    "    file.close()"
   ]
  },
  {
   "cell_type": "markdown",
   "id": "3e8569c9-2362-4ad0-9c7c-b0ca23e17a25",
   "metadata": {},
   "source": [
    "### Load Dataset"
   ]
  },
  {
   "cell_type": "code",
   "execution_count": 11,
   "id": "d9e493d6-de5c-4397-b6c8-d4cb636c9bfc",
   "metadata": {},
   "outputs": [],
   "source": [
    "import opendatasets as od"
   ]
  },
  {
   "cell_type": "code",
   "execution_count": 15,
   "id": "60e840cb-bc52-44de-a15d-61a76896ce65",
   "metadata": {},
   "outputs": [
    {
     "name": "stdout",
     "output_type": "stream",
     "text": [
      "Please provide your Kaggle credentials to download this dataset. Learn more: http://bit.ly/kaggle-creds\n",
      "Your Kaggle username: "
     ]
    },
    {
     "name": "stdin",
     "output_type": "stream",
     "text": [
      " architkaila9\n"
     ]
    },
    {
     "name": "stdout",
     "output_type": "stream",
     "text": [
      "Your Kaggle Key: "
     ]
    },
    {
     "name": "stdin",
     "output_type": "stream",
     "text": [
      " ································\n"
     ]
    },
    {
     "name": "stderr",
     "output_type": "stream",
     "text": [
      "  0%|          | 6.00M/42.0G [00:00<12:09, 61.8MB/s]"
     ]
    },
    {
     "name": "stdout",
     "output_type": "stream",
     "text": [
      "Downloading data.zip to ./data\n"
     ]
    },
    {
     "name": "stderr",
     "output_type": "stream",
     "text": [
      "100%|██████████| 42.0G/42.0G [04:32<00:00, 165MB/s] "
     ]
    },
    {
     "name": "stdout",
     "output_type": "stream",
     "text": [
      "\n"
     ]
    },
    {
     "name": "stderr",
     "output_type": "stream",
     "text": [
      "\n"
     ]
    }
   ],
   "source": [
    "od.download(\"https://www.kaggle.com/datasets/nih-chest-xrays/data\")"
   ]
  },
  {
   "cell_type": "code",
   "execution_count": null,
   "id": "6d29969c-465a-479e-8ce8-6b13f6ba6658",
   "metadata": {},
   "outputs": [],
   "source": []
  }
 ],
 "metadata": {
  "kernelspec": {
   "display_name": "aipi_ind_project",
   "language": "python",
   "name": "aipi_ind_project"
  },
  "language_info": {
   "codemirror_mode": {
    "name": "ipython",
    "version": 3
   },
   "file_extension": ".py",
   "mimetype": "text/x-python",
   "name": "python",
   "nbconvert_exporter": "python",
   "pygments_lexer": "ipython3",
   "version": "3.8.8"
  }
 },
 "nbformat": 4,
 "nbformat_minor": 5
}
